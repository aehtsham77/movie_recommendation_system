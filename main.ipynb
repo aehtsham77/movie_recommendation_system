{
 "cells": [
  {
   "cell_type": "code",
   "execution_count": 1,
   "id": "819e4514-8674-4473-975f-a296d7172754",
   "metadata": {},
   "outputs": [],
   "source": [
    #importing libraries
    "import pandas as pd\n",
    "import numpy as np\n",
    "import ast\n",
    "from sklearn.feature_extraction.text import TfidfVectorizer\n",
    "from sklearn.metrics.pairwise import cosine_similarity\n",
    "import pickle"
   ]
  },
  {
   "cell_type": "code",
   "execution_count": 2,
   "id": "bb6c0e79-e9cd-42d3-8376-6d7521e4a1da",
   "metadata": {},
   "outputs": [],
   "source": [
    #Importing Data Set
    "credits = pd.read_csv('D:\\\\Movies Recommndation System\\\\soft files\\\\tmdb_5000_credits.csv')\n",
    "movies = pd.read_csv('D:\\\\Movies Recommndation System\\\\soft files\\\\tmdb_5000_movies.csv')"
   ]
  },
  {
   "cell_type": "code",
   "execution_count": 5,
   "id": "462702fa-6ba0-4621-80d0-7a740c824595",
   "metadata": {},
   "outputs": [],
   "source": [
    #preprocessing
    "movie = movies.merge(credits, left_on  = 'title', right_on = 'title')\n",
    "movie= movie[['movie_id', 'title', 'overview', 'genres', 'popularity', 'keywords', 'cast', 'crew']]"
   ]
  },
  {
   "cell_type": "code",
   "execution_count": 12,
   "id": "b3a127af-189d-4610-9372-6f5ecbe9bc24",
   "metadata": {},
   "outputs": [],
   "source": [
   #Function to get required data
    "def convert(obj):\n",
    "    L = []\n",
    "    for i in ast.literal_eval(obj):\n",
    "        L.append(i['name'])\n",
    "    return L"
   ]
  },
  {
   "cell_type": "code",
   "execution_count": 19,
   "id": "7e87b0aa-407e-478f-b785-a991ca58bc90",
   "metadata": {},
   "outputs": [],
   "source": [
    #applying the function
    "movie['genres'] = movie['genres'].apply(convert)\n",
    "movie['keywords'] = movie['keywords'].apply(convert)\n",
    "movie['cast'] = movie['cast'].apply(lambda x:[i['name'] for i in ast.literal_eval(x)[:3]])\n",
    "movie['crew'] = movie['crew'].apply(lambda x:[i['name'] for i in ast.literal_eval(x) if i['job'] == 'Director'])\n",
    "movie['tags'] = movie['genres'] + movie['keywords'] + movie['cast'] + movie['crew']"
   ]
  },
  {
   "cell_type": "code",
   "execution_count": 34,
   "id": "efdbb1f4-0772-4a63-a3a7-72a760a62df7",
   "metadata": {},
   "outputs": [],
   "source": [
    "movie = movie [['movie_id', 'title', 'overview','tags']]\n",
    "movie['tags'] = movie['tags'].apply(lambda x: \" \".join(x)) #to remove the commas\n",
    "movie['tags'] = movie['tags'].apply(lambda x: x.lower())  #to lower the text"
   ]
  },
  {
   "cell_type": "code",
   "execution_count": 39,
   "id": "e5a66ba8-adc1-45c3-9149-f47df7798276",
   "metadata": {},
   "outputs": [],
   "source": [
    #main code
    "tfi = TfidfVectorizer(stop_words='english')\n",
    "tfi_matrix = tfi.fit_transform(movie['tags'])"
   ]
  },
  {
   "cell_type": "code",
   "execution_count": 40,
   "id": "08be5bb8-828a-456f-825f-8feb3e2adcc4",
   "metadata": {},
   "outputs": [],
   "source": [
    "cosine_sim = cosine_similarity(tfi_matrix, tfi_matrix)"
   ]
  },
  {
   "cell_type": "code",
   "execution_count": 41,
   "id": "7e8c50b6-18d3-482c-a3eb-140695ff1c37",
   "metadata": {},
   "outputs": [],
   "source": [
    "def get_recommendations(title, cosine_sim=cosine_sim):\n",
    "    idx = movie[movie['title'] == title] .index[0]\n",
    "    sim_scores = list(enumerate(cosine_sim[idx]))\n",
    "    sim_scores = sorted(sim_scores, key=lambda x: x[1], reverse= True)\n",
    "    sim_scores = sim_scores[1:11]\n",
    "    movie_indices = [i[0] for i in sim_scores]\n",
    "    return movies['title'].iloc[movie_indices]"
   ]
  },
  {
   "cell_type": "code",
   "execution_count": 46,
   "id": "cae99dc4-8442-49a3-b7f0-b4b625321859",
   "metadata": {},
   "outputs": [],
   "source": [
     #exporting the file
    "with open('movie_data.pkl', 'wb') as file:\n",
    "    pickle.dump((movie, cosine_sim), file)"
   ]
  }
 ],
 "metadata": {
  "kernelspec": {
   "display_name": "Python 3 (ipykernel)",
   "language": "python",
   "name": "python3"
  },
  "language_info": {
   "codemirror_mode": {
    "name": "ipython",
    "version": 3
   },
   "file_extension": ".py",
   "mimetype": "text/x-python",
   "name": "python",
   "nbconvert_exporter": "python",
   "pygments_lexer": "ipython3",
   "version": "3.12.7"
  }
 },
 "nbformat": 4,
 "nbformat_minor": 5
}
